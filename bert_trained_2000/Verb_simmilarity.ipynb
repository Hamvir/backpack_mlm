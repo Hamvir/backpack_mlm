{
 "cells": [
  {
   "cell_type": "markdown",
   "metadata": {},
   "source": [
    "# Backpack"
   ]
  },
  {
   "cell_type": "code",
   "execution_count": 1,
   "metadata": {},
   "outputs": [],
   "source": [
    "from transformers import AutoTokenizer\n",
    "from transformers import BertTokenizer\n",
    "import torch\n",
    "import os\n",
    "import numpy as np\n",
    "import torch.nn.functional as F\n",
    "from scipy.stats import spearmanr"
   ]
  },
  {
   "cell_type": "code",
   "execution_count": 2,
   "metadata": {},
   "outputs": [],
   "source": [
    "model = torch.load(\"/home/hamvir/NLP/Project/dataset/bert/results_2000/model.pt\", map_location=torch.device('cpu'))  # You can specify the device (e.g., 'cuda:0') if using GPU"
   ]
  },
  {
   "cell_type": "code",
   "execution_count": null,
   "metadata": {},
   "outputs": [],
   "source": [
    "model.eval()"
   ]
  },
  {
   "cell_type": "code",
   "execution_count": 4,
   "metadata": {},
   "outputs": [],
   "source": [
    "tokenizer = BertTokenizer.from_pretrained('bert-base-uncased')"
   ]
  },
  {
   "cell_type": "code",
   "execution_count": 5,
   "metadata": {},
   "outputs": [],
   "source": [
    "def simm(w1,w2):\n",
    "    x1 = tokenizer(w1,return_tensors='pt',add_special_tokens=False)['input_ids']\n",
    "    x1 = model.backpack.word_embeddings(x1)\n",
    "    x1 = model.backpack.sense_network(x1).detach()\n",
    "    x1 = x1[:,:,0,:]\n",
    "    x1 = x1.squeeze()\n",
    "    x1 = F.normalize(x1,p=2,dim=1)\n",
    "    x2 = tokenizer(w2,return_tensors='pt',add_special_tokens=False)['input_ids']\n",
    "    x2 = model.backpack.word_embeddings(x2)\n",
    "    x2 = model.backpack.sense_network(x2).detach()\n",
    "    x2 = x2[:,:,0,:]\n",
    "    x2 = x2.squeeze()\n",
    "    x2 = F.normalize(x2,p=2,dim=1)\n",
    "    sim_list = torch.sum(torch.multiply(x1,x2),dim=1)\n",
    "    #print(sim_list)\n",
    "    return(sim_list.min())"
   ]
  },
  {
   "cell_type": "markdown",
   "metadata": {},
   "source": [
    "## SIMVERB"
   ]
  },
  {
   "cell_type": "code",
   "execution_count": 6,
   "metadata": {},
   "outputs": [],
   "source": [
    "word1 = []\n",
    "word2 = []  # add space\n",
    "h_score = []\n",
    "m_score =[]"
   ]
  },
  {
   "cell_type": "code",
   "execution_count": 7,
   "metadata": {},
   "outputs": [],
   "source": [
    "with open('/home/hamvir/NLP/Project/dataset/Hamvir/gpt_2_trained/SimVerb-3500.txt', 'r') as file:\n",
    "    # Iterate through each line\n",
    "    for line in file:\n",
    "        # Split the line into columns\n",
    "        columns = line.strip().split('\\t')\n",
    "\n",
    "        # Extract word1, word2, and the score\n",
    "        word1.append(\" \"+ columns[0])\n",
    "        word2.append(\" \"+ columns[1])\n",
    "        h_score.append(float(columns[3]))  # Assuming the score is a floating-point number\n"
   ]
  },
  {
   "cell_type": "code",
   "execution_count": 8,
   "metadata": {},
   "outputs": [],
   "source": [
    "for i in range(len(word1)):\n",
    "    m_score.append(simm(word1[i],word2[i]))"
   ]
  },
  {
   "cell_type": "code",
   "execution_count": 9,
   "metadata": {},
   "outputs": [
    {
     "data": {
      "text/plain": [
       "0.0868790515236678"
      ]
     },
     "execution_count": 9,
     "metadata": {},
     "output_type": "execute_result"
    }
   ],
   "source": [
    "spearman_corr, _ = spearmanr(h_score, m_score)\n",
    "spearman_corr"
   ]
  },
  {
   "cell_type": "markdown",
   "metadata": {},
   "source": [
    "## SIMMLEX"
   ]
  },
  {
   "cell_type": "code",
   "execution_count": 10,
   "metadata": {},
   "outputs": [],
   "source": [
    "word1 = []\n",
    "word2 = []  # add space\n",
    "h_score = []\n",
    "m_score =[]"
   ]
  },
  {
   "cell_type": "code",
   "execution_count": 11,
   "metadata": {},
   "outputs": [],
   "source": [
    "with open('/home/hamvir/NLP/Project/dataset/Hamvir/gpt_2_trained/SimLex-999.txt', 'r') as file:\n",
    "    # Iterate through each line\n",
    "    header = next(file)\n",
    "    for line in file:\n",
    "        # Split the line into columns\n",
    "        columns = line.strip().split('\\t')\n",
    "\n",
    "        # Extract word1, word2, and the score\n",
    "        word1.append(\" \"+ columns[0])\n",
    "        word2.append(\" \"+ columns[1])\n",
    "        h_score.append(float(columns[3]))  # Assuming the score is a floating-point number\n"
   ]
  },
  {
   "cell_type": "code",
   "execution_count": 12,
   "metadata": {},
   "outputs": [],
   "source": [
    "for i in range(len(word1)):\n",
    "    m_score.append(simm(word1[i],word2[i]))"
   ]
  },
  {
   "cell_type": "code",
   "execution_count": 14,
   "metadata": {},
   "outputs": [
    {
     "data": {
      "text/plain": [
       "0.18058067159759492"
      ]
     },
     "execution_count": 14,
     "metadata": {},
     "output_type": "execute_result"
    }
   ],
   "source": [
    "spearman_corr, _ = spearmanr(h_score, m_score)\n",
    "spearman_corr"
   ]
  },
  {
   "cell_type": "markdown",
   "metadata": {},
   "source": [
    "# Bert"
   ]
  },
  {
   "cell_type": "code",
   "execution_count": 41,
   "metadata": {},
   "outputs": [],
   "source": [
    "from transformers import BertConfig, BertModel\n",
    "configuration = BertConfig()\n",
    "model = BertModel(configuration)"
   ]
  },
  {
   "cell_type": "code",
   "execution_count": 72,
   "metadata": {},
   "outputs": [
    {
     "name": "stderr",
     "output_type": "stream",
     "text": [
      "Some weights of the model checkpoint at bert-base-uncased were not used when initializing BertForMaskedLM: ['bert.pooler.dense.bias', 'bert.pooler.dense.weight', 'cls.seq_relationship.bias', 'cls.seq_relationship.weight']\n",
      "- This IS expected if you are initializing BertForMaskedLM from the checkpoint of a model trained on another task or with another architecture (e.g. initializing a BertForSequenceClassification model from a BertForPreTraining model).\n",
      "- This IS NOT expected if you are initializing BertForMaskedLM from the checkpoint of a model that you expect to be exactly identical (initializing a BertForSequenceClassification model from a BertForSequenceClassification model).\n"
     ]
    }
   ],
   "source": [
    "from transformers import BertForMaskedLM, BertTokenizer\n",
    "\n",
    "# Load pre-trained BERT model\n",
    "model_name = 'bert-base-uncased'  # Example model name, you can use other variants\n",
    "model = BertForMaskedLM.from_pretrained(model_name)"
   ]
  },
  {
   "cell_type": "code",
   "execution_count": null,
   "metadata": {},
   "outputs": [],
   "source": [
    "model.eval()"
   ]
  },
  {
   "cell_type": "code",
   "execution_count": 74,
   "metadata": {},
   "outputs": [],
   "source": [
    "tokenizer = BertTokenizer.from_pretrained('bert-base-uncased')"
   ]
  },
  {
   "cell_type": "code",
   "execution_count": 79,
   "metadata": {},
   "outputs": [],
   "source": [
    "def simm(w1,w2):\n",
    "    x1 = tokenizer(w1,return_tensors='pt',add_special_tokens=False)['input_ids']\n",
    "    x1 = model.bert.embeddings.word_embeddings(x1).detach() # (1, 1, 768)\n",
    "    #print(x1.shape)\n",
    "    x1 = x1[:,-1,:]  # (1,768)\n",
    "    #print(x1.shape)\n",
    "    x1 = F.normalize(x1,p=2,dim=1)\n",
    "    x2 = tokenizer(w2,return_tensors='pt',add_special_tokens=False)['input_ids']\n",
    "    x2 = model.bert.embeddings.word_embeddings(x2).detach() # (1, 1, 768)\n",
    "    x2 = x2[:,-1,:] # (1,768)\n",
    "    #print(x2.shape)\n",
    "    x2 = F.normalize(x2,p=2,dim=1)\n",
    "    sim_list = torch.sum(torch.multiply(x1,x2))\n",
    "    #print(sim_list)\n",
    "    return(sim_list.item())"
   ]
  },
  {
   "cell_type": "markdown",
   "metadata": {},
   "source": [
    "## SIMVERB"
   ]
  },
  {
   "cell_type": "code",
   "execution_count": 80,
   "metadata": {},
   "outputs": [],
   "source": [
    "word1 = []\n",
    "word2 = []  # add space\n",
    "h_score = []\n",
    "m_score =[]"
   ]
  },
  {
   "cell_type": "code",
   "execution_count": 81,
   "metadata": {},
   "outputs": [],
   "source": [
    "with open('/home/hamvir/NLP/Project/dataset/Hamvir/gpt_2_trained/SimVerb-3500.txt', 'r') as file:\n",
    "    # Iterate through each line\n",
    "    for line in file:\n",
    "        # Split the line into columns\n",
    "        columns = line.strip().split('\\t')\n",
    "\n",
    "        # Extract word1, word2, and the score\n",
    "        word1.append(\" \"+ columns[0])\n",
    "        word2.append(\" \"+ columns[1])\n",
    "        h_score.append(float(columns[3]))  # Assuming the score is a floating-point number\n"
   ]
  },
  {
   "cell_type": "code",
   "execution_count": 82,
   "metadata": {},
   "outputs": [],
   "source": [
    "for i in range(len(word1)):\n",
    "    m_score.append(simm(word1[i],word2[i]))"
   ]
  },
  {
   "cell_type": "code",
   "execution_count": 83,
   "metadata": {},
   "outputs": [
    {
     "data": {
      "text/plain": [
       "0.2455796022923943"
      ]
     },
     "execution_count": 83,
     "metadata": {},
     "output_type": "execute_result"
    }
   ],
   "source": [
    "spearman_corr, _ = spearmanr(h_score, m_score)\n",
    "spearman_corr"
   ]
  },
  {
   "cell_type": "markdown",
   "metadata": {},
   "source": [
    "## SIMMLEX"
   ]
  },
  {
   "cell_type": "code",
   "execution_count": 84,
   "metadata": {},
   "outputs": [],
   "source": [
    "word1 = []\n",
    "word2 = []  # add space\n",
    "h_score = []\n",
    "m_score =[]"
   ]
  },
  {
   "cell_type": "code",
   "execution_count": 85,
   "metadata": {},
   "outputs": [],
   "source": [
    "with open('/home/hamvir/NLP/Project/dataset/Hamvir/gpt_2_trained/SimLex-999.txt', 'r') as file:\n",
    "    # Iterate through each line\n",
    "    header = next(file)\n",
    "    for line in file:\n",
    "        # Split the line into columns\n",
    "        columns = line.strip().split('\\t')\n",
    "\n",
    "        # Extract word1, word2, and the score\n",
    "        word1.append(\" \"+ columns[0])\n",
    "        word2.append(\" \"+ columns[1])\n",
    "        h_score.append(float(columns[3]))  # Assuming the score is a floating-point number\n"
   ]
  },
  {
   "cell_type": "code",
   "execution_count": 86,
   "metadata": {},
   "outputs": [],
   "source": [
    "for i in range(len(word1)):\n",
    "    m_score.append(simm(word1[i],word2[i]))"
   ]
  },
  {
   "cell_type": "code",
   "execution_count": 87,
   "metadata": {},
   "outputs": [
    {
     "data": {
      "text/plain": [
       "0.46547584403104386"
      ]
     },
     "execution_count": 87,
     "metadata": {},
     "output_type": "execute_result"
    }
   ],
   "source": [
    "spearman_corr, _ = spearmanr(h_score, m_score)\n",
    "spearman_corr"
   ]
  },
  {
   "cell_type": "code",
   "execution_count": null,
   "metadata": {},
   "outputs": [],
   "source": []
  }
 ],
 "metadata": {
  "kernelspec": {
   "display_name": "venv",
   "language": "python",
   "name": "python3"
  },
  "language_info": {
   "codemirror_mode": {
    "name": "ipython",
    "version": 3
   },
   "file_extension": ".py",
   "mimetype": "text/x-python",
   "name": "python",
   "nbconvert_exporter": "python",
   "pygments_lexer": "ipython3",
   "version": "3.8.18"
  }
 },
 "nbformat": 4,
 "nbformat_minor": 2
}
