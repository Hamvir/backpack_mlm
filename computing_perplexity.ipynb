{
 "cells": [
  {
   "cell_type": "code",
   "execution_count": 1,
   "metadata": {},
   "outputs": [
    {
     "name": "stderr",
     "output_type": "stream",
     "text": [
      "/home/piyush/anaconda3/envs/srinath/lib/python3.11/site-packages/tqdm/auto.py:21: TqdmWarning: IProgress not found. Please update jupyter and ipywidgets. See https://ipywidgets.readthedocs.io/en/stable/user_install.html\n",
      "  from .autonotebook import tqdm as notebook_tqdm\n"
     ]
    }
   ],
   "source": [
    "import json\n",
    "from configuration_backpack_gpt2 import BackpackGPT2Config\n",
    "from modeling_backpack_gpt2 import BackpackGPT2LMHeadModel\n",
    "import os\n",
    "import numpy as np\n",
    "import pandas as pd\n",
    "import torch\n",
    "from torch.utils.data import Dataset, DataLoader\n",
    "from transformers import GPT2Tokenizer, DataCollatorForLanguageModeling\n",
    "from transformers import AutoConfig, AutoModelForCausalLM\n",
    "from tqdm import tqdm"
   ]
  },
  {
   "cell_type": "code",
   "execution_count": 2,
   "metadata": {},
   "outputs": [
    {
     "data": {
      "text/plain": [
       "device(type='cuda')"
      ]
     },
     "execution_count": 2,
     "metadata": {},
     "output_type": "execute_result"
    }
   ],
   "source": [
    "device = torch.device(\"cuda\" if torch.cuda.is_available() else \"cpu\")\n",
    "device"
   ]
  },
  {
   "cell_type": "markdown",
   "metadata": {},
   "source": [
    "# Custom Dataset Class"
   ]
  },
  {
   "cell_type": "code",
   "execution_count": 3,
   "metadata": {},
   "outputs": [],
   "source": [
    "class CustomDataset(Dataset):\n",
    "    \n",
    "    def __init__(self, dir_path,tokenizer):\n",
    "        self.dir_path = dir_path\n",
    "        self.dataset = self._load_sentences()\n",
    "        self.tokenizer = tokenizer\n",
    "\n",
    "    def _load_sentences(self):\n",
    "        dataset = []\n",
    "        for file in os.listdir(self.dir_path):\n",
    "            if file.endswith(\".parquet\"):\n",
    "                file_path = os.path.join(self.dir_path, file)\n",
    "                df = pd.read_parquet(file_path)\n",
    "                sentences = df.values.flatten().tolist()\n",
    "                non_empty_sentences = [sentence for sentence in sentences if sentence]\n",
    "                dataset.extend(non_empty_sentences)\n",
    "                \n",
    "        return dataset\n",
    "                \n",
    "    def __len__(self):\n",
    "        # Return the number of sentences in the dataset\n",
    "        return len(self.dataset)\n",
    "\n",
    "    def __getitem__(self, idx):\n",
    "        # Get a specific sentence by index\n",
    "        text = self.dataset[idx]\n",
    "        input_ = self.tokenizer.bos_token + text\n",
    "        output_ = text + self.tokenizer.eos_token\n",
    "        input_tokens = self.tokenizer(input_, max_length=512, truncation=True, padding='max_length', return_tensors='pt')\n",
    "        output_tokens = self.tokenizer(output_, max_length=512, truncation=True, padding='max_length', return_tensors='pt')\n",
    "        \n",
    "        return input_tokens.input_ids.squeeze(0), output_tokens.input_ids.squeeze(0)\n",
    "        "
   ]
  },
  {
   "cell_type": "code",
   "execution_count": 186,
   "metadata": {},
   "outputs": [],
   "source": [
    "class OpenWebtext(Dataset):\n",
    "    \n",
    "    def __init__(self, dir_path,tokenizer):\n",
    "        self.dir_path = dir_path\n",
    "        self.files_path=[os.path.join(dir_path, each) for each in os.listdir(dir_path)][:1000]\n",
    "        self.dataset = self._load_sentences()\n",
    "        self.tokenizer = tokenizer\n",
    "\n",
    "    def _load_sentences(self):\n",
    "        dataset = []\n",
    "        for file in self.files_path:\n",
    "            sentences = [line.strip() for line in open(file, 'r') if line.strip()][1:]\n",
    "        dataset.extend(sentences)\n",
    "                        \n",
    "        return dataset\n",
    "                \n",
    "    def __len__(self):\n",
    "        # Return the number of sentences in the dataset\n",
    "        return len(self.dataset)\n",
    "\n",
    "    def __getitem__(self, idx):\n",
    "        # Get a specific sentence by index\n",
    "        text = self.dataset[idx]\n",
    "        input_ = self.tokenizer.bos_token + text\n",
    "        output_ = text + self.tokenizer.eos_token\n",
    "        input_tokens = self.tokenizer(input_, max_length=512, truncation=True, padding='max_length', return_tensors='pt')\n",
    "        output_tokens = self.tokenizer(output_, max_length=512, truncation=True, padding='max_length', return_tensors='pt')\n",
    "        \n",
    "        return input_tokens.input_ids.squeeze(0), output_tokens.input_ids.squeeze(0)\n",
    "        "
   ]
  },
  {
   "cell_type": "markdown",
   "metadata": {},
   "source": [
    "# Perplexity function"
   ]
  },
  {
   "cell_type": "code",
   "execution_count": 201,
   "metadata": {},
   "outputs": [],
   "source": [
    "def compute_perplexity(model,dataloader,tokenizer,total_tokens):\n",
    "    model.eval()\n",
    "    model = model.to(device)\n",
    "    criterion = torch.nn.CrossEntropyLoss(reduction='mean', ignore_index=tokenizer.pad_token_id)\n",
    "    total_loss = 0\n",
    "    with torch.no_grad():\n",
    "        for inputs, outputs in tqdm(dataloader):\n",
    "            inputs = inputs.to(device)\n",
    "            outputs = outputs.to(device)\n",
    "            model_outputs = model(inputs)\n",
    "            output_logits = model_outputs['logits']\n",
    "            print(output_logits.view(-1, output_logits.size(-1)))\n",
    "            loss = criterion(output_logits.view(-1, output_logits.size(-1)), outputs.view(-1))\n",
    "            total_loss += loss.item()\n",
    "            # print(loss.item())\n",
    "            \n",
    "    perplexity = np.exp(total_loss / total_tokens)\n",
    "    return perplexity"
   ]
  },
  {
   "cell_type": "markdown",
   "metadata": {},
   "source": [
    "# Defining Model"
   ]
  },
  {
   "cell_type": "code",
   "execution_count": 4,
   "metadata": {},
   "outputs": [
    {
     "name": "stderr",
     "output_type": "stream",
     "text": [
      "/home/piyush/anaconda3/envs/srinath/lib/python3.11/site-packages/torch/_utils.py:831: UserWarning: TypedStorage is deprecated. It will be removed in the future and UntypedStorage will be the only storage class. This should only matter to you if you are using storages directly.  To access UntypedStorage directly, use tensor.untyped_storage() instead of tensor.storage()\n",
      "  return self.fget.__get__(instance, owner)()\n"
     ]
    },
    {
     "data": {
      "text/plain": [
       "BackpackGPT2LMHeadModel(\n",
       "  (backpack): BackpackGPT2Model(\n",
       "    (gpt2_model): GPT2Model(\n",
       "      (wte): Embedding(50264, 768)\n",
       "      (wpe): Embedding(512, 768)\n",
       "      (drop): Dropout(p=0.1, inplace=False)\n",
       "      (h): ModuleList(\n",
       "        (0-11): 12 x GPT2Block(\n",
       "          (ln_1): LayerNorm((768,), eps=1e-05, elementwise_affine=True)\n",
       "          (attn): GPT2Attention(\n",
       "            (c_attn): Conv1D()\n",
       "            (c_proj): Conv1D()\n",
       "            (attn_dropout): Dropout(p=0.1, inplace=False)\n",
       "            (resid_dropout): Dropout(p=0.1, inplace=False)\n",
       "          )\n",
       "          (ln_2): LayerNorm((768,), eps=1e-05, elementwise_affine=True)\n",
       "          (mlp): GPT2MLP(\n",
       "            (c_fc): Conv1D()\n",
       "            (c_proj): Conv1D()\n",
       "            (act): NewGELUActivation()\n",
       "            (dropout): Dropout(p=0.1, inplace=False)\n",
       "          )\n",
       "        )\n",
       "      )\n",
       "      (ln_f): LayerNorm((768,), eps=1e-05, elementwise_affine=True)\n",
       "    )\n",
       "    (sense_network): BackpackSenseNetwork(\n",
       "      (dropout): Dropout(p=0.1, inplace=False)\n",
       "      (block): BackpackNoMixBlock(\n",
       "        (ln_1): LayerNorm((768,), eps=1e-05, elementwise_affine=True)\n",
       "        (ln_2): LayerNorm((768,), eps=1e-05, elementwise_affine=True)\n",
       "        (mlp): BackpackMLP(\n",
       "          (c_fc): Conv1D()\n",
       "          (c_proj): Conv1D()\n",
       "          (act): NewGELUActivation()\n",
       "          (dropout): Dropout(p=0.1, inplace=False)\n",
       "        )\n",
       "        (resid_dropout1): Dropout(p=0.1, inplace=False)\n",
       "        (resid_dropout2): Dropout(p=0.1, inplace=False)\n",
       "      )\n",
       "      (ln): LayerNorm((768,), eps=1e-05, elementwise_affine=True)\n",
       "      (final_mlp): BackpackMLP(\n",
       "        (c_fc): Conv1D()\n",
       "        (c_proj): Conv1D()\n",
       "        (act): NewGELUActivation()\n",
       "        (dropout): Dropout(p=0.1, inplace=False)\n",
       "      )\n",
       "    )\n",
       "    (word_embeddings): Embedding(50264, 768)\n",
       "    (position_embeddings): Embedding(512, 768)\n",
       "    (sense_weight_net): BackpackWeightNetwork(\n",
       "      (c_attn): Linear(in_features=768, out_features=1536, bias=True)\n",
       "    )\n",
       "  )\n",
       "  (lm_head): Linear(in_features=768, out_features=50264, bias=False)\n",
       ")"
      ]
     },
     "execution_count": 4,
     "metadata": {},
     "output_type": "execute_result"
    }
   ],
   "source": [
    "model_id = \"stanfordnlp/backpack-gpt2\"\n",
    "config = AutoConfig.from_pretrained(model_id, trust_remote_code=True)\n",
    "model = AutoModelForCausalLM.from_pretrained(model_id, config=config, trust_remote_code=True)\n",
    "tokenizer = GPT2Tokenizer.from_pretrained(\"openai-community/gpt2\", pad_token = '<pad>')\n",
    "model.eval()"
   ]
  },
  {
   "cell_type": "markdown",
   "metadata": {},
   "source": [
    "# Wikitext 103"
   ]
  },
  {
   "cell_type": "code",
   "execution_count": 6,
   "metadata": {},
   "outputs": [
    {
     "data": {
      "text/plain": [
       "2891"
      ]
     },
     "execution_count": 6,
     "metadata": {},
     "output_type": "execute_result"
    }
   ],
   "source": [
    "wiki_text_103_dir_path = \"/home/piyush/srinath/NLP/Project/NLP/dataset/Wikitext103/temp\"\n",
    "wiki_text_103_dataset = CustomDataset(wiki_text_103_dir_path, tokenizer)\n",
    "len(wiki_text_103_dataset) "
   ]
  },
  {
   "cell_type": "code",
   "execution_count": 8,
   "metadata": {},
   "outputs": [
    {
     "data": {
      "text/plain": [
       "289069"
      ]
     },
     "execution_count": 8,
     "metadata": {},
     "output_type": "execute_result"
    }
   ],
   "source": [
    "total_tokens = sum(len(tokenizer(wiki_text_103_dataset.dataset[i]).input_ids) + 2 for i in range(len(wiki_text_103_dataset)))\n",
    "total_tokens"
   ]
  },
  {
   "cell_type": "code",
   "execution_count": 9,
   "metadata": {},
   "outputs": [],
   "source": [
    "dataloader = DataLoader(wiki_text_103_dataset, batch_size=64, shuffle=False)"
   ]
  },
  {
   "cell_type": "code",
   "execution_count": null,
   "metadata": {},
   "outputs": [],
   "source": [
    "wiki_text_103_perplexity = compute_perplexity(model, dataloader, tokenizer, total_tokens)"
   ]
  },
  {
   "cell_type": "code",
   "execution_count": 12,
   "metadata": {},
   "outputs": [
    {
     "data": {
      "text/plain": [
       "61.80653746288182"
      ]
     },
     "execution_count": 12,
     "metadata": {},
     "output_type": "execute_result"
    }
   ],
   "source": [
    "wiki_text_103_perplexity"
   ]
  },
  {
   "cell_type": "markdown",
   "metadata": {},
   "source": [
    "# Lambada OpenAI"
   ]
  },
  {
   "cell_type": "code",
   "execution_count": 169,
   "metadata": {},
   "outputs": [
    {
     "data": {
      "text/plain": [
       "5153"
      ]
     },
     "execution_count": 169,
     "metadata": {},
     "output_type": "execute_result"
    }
   ],
   "source": [
    "path = \"/home/piyush/srinath/NLP/Project/NLP/dataset/lambada_openai\"\n",
    "lambada_dataset = CustomDataset(path, tokenizer)\n",
    "len(lambada_dataset)"
   ]
  },
  {
   "cell_type": "code",
   "execution_count": 170,
   "metadata": {},
   "outputs": [
    {
     "data": {
      "text/plain": [
       "440536"
      ]
     },
     "execution_count": 170,
     "metadata": {},
     "output_type": "execute_result"
    }
   ],
   "source": [
    "total_tokens = sum(len(tokenizer(lambada_dataset.dataset[i]).input_ids) + 2 for i in range(len(lambada_dataset)))\n",
    "total_tokens"
   ]
  },
  {
   "cell_type": "code",
   "execution_count": 171,
   "metadata": {},
   "outputs": [],
   "source": [
    "dataloader = DataLoader(lambada_dataset, batch_size=64, shuffle=False)"
   ]
  },
  {
   "cell_type": "code",
   "execution_count": null,
   "metadata": {},
   "outputs": [],
   "source": [
    "lambada_perplexity = compute_perplexity(model, dataloader, tokenizer, total_tokens)"
   ]
  },
  {
   "cell_type": "code",
   "execution_count": 173,
   "metadata": {},
   "outputs": [
    {
     "data": {
      "text/plain": [
       "39.820683414843465"
      ]
     },
     "execution_count": 173,
     "metadata": {},
     "output_type": "execute_result"
    }
   ],
   "source": [
    "lambada_perplexity"
   ]
  }
 ],
 "metadata": {
  "kernelspec": {
   "display_name": "srinath",
   "language": "python",
   "name": "python3"
  },
  "language_info": {
   "codemirror_mode": {
    "name": "ipython",
    "version": 3
   },
   "file_extension": ".py",
   "mimetype": "text/x-python",
   "name": "python",
   "nbconvert_exporter": "python",
   "pygments_lexer": "ipython3",
   "version": "3.11.5"
  }
 },
 "nbformat": 4,
 "nbformat_minor": 2
}
