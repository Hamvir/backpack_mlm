{
 "cells": [
  {
   "cell_type": "markdown",
   "metadata": {},
   "source": [
    "# Backpack"
   ]
  },
  {
   "cell_type": "code",
   "execution_count": 1,
   "metadata": {},
   "outputs": [],
   "source": [
    "from transformers import AutoTokenizer\n",
    "from transformers import BertTokenizer\n",
    "import torch\n",
    "import os\n",
    "import numpy as np\n",
    "import torch.nn.functional as F\n",
    "from scipy.stats import spearmanr"
   ]
  },
  {
   "cell_type": "code",
   "execution_count": 2,
   "metadata": {},
   "outputs": [],
   "source": [
    "model = torch.load(\"/home/hamvir/NLP/Project/dataset/bert/results_1/model.pt\", map_location=torch.device('cpu'))  # You can specify the device (e.g., 'cuda:0') if using GPU"
   ]
  },
  {
   "cell_type": "code",
   "execution_count": null,
   "metadata": {},
   "outputs": [],
   "source": [
    "model.eval()"
   ]
  },
  {
   "cell_type": "code",
   "execution_count": 4,
   "metadata": {},
   "outputs": [],
   "source": [
    "tokenizer = BertTokenizer.from_pretrained('bert-base-uncased')"
   ]
  },
  {
   "cell_type": "code",
   "execution_count": 5,
   "metadata": {},
   "outputs": [],
   "source": [
    "def simm(w1,w2):\n",
    "    x1 = tokenizer(w1,return_tensors='pt',add_special_tokens=False)['input_ids']\n",
    "    x1 = model.backpack.word_embeddings(x1)\n",
    "    x1 = model.backpack.sense_network(x1).detach()\n",
    "    x1 = x1[:,:,0,:]\n",
    "    x1 = x1.squeeze()\n",
    "    x1 = F.normalize(x1,p=2,dim=1)\n",
    "    x2 = tokenizer(w2,return_tensors='pt',add_special_tokens=False)['input_ids']\n",
    "    x2 = model.backpack.word_embeddings(x2)\n",
    "    x2 = model.backpack.sense_network(x2).detach()\n",
    "    x2 = x2[:,:,0,:]\n",
    "    x2 = x2.squeeze()\n",
    "    x2 = F.normalize(x2,p=2,dim=1)\n",
    "    sim_list = torch.sum(torch.multiply(x1,x2),dim=1)\n",
    "    #print(sim_list)\n",
    "    return(sim_list.min())"
   ]
  },
  {
   "cell_type": "markdown",
   "metadata": {},
   "source": [
    "## SIMVERB"
   ]
  },
  {
   "cell_type": "code",
   "execution_count": 6,
   "metadata": {},
   "outputs": [],
   "source": [
    "word1 = []\n",
    "word2 = []  # add space\n",
    "h_score = []\n",
    "m_score =[]"
   ]
  },
  {
   "cell_type": "code",
   "execution_count": 7,
   "metadata": {},
   "outputs": [],
   "source": [
    "with open('/home/hamvir/NLP/Project/dataset/Hamvir/gpt_2_trained/SimVerb-3500.txt', 'r') as file:\n",
    "    # Iterate through each line\n",
    "    for line in file:\n",
    "        # Split the line into columns\n",
    "        columns = line.strip().split('\\t')\n",
    "\n",
    "        # Extract word1, word2, and the score\n",
    "        word1.append(\" \"+ columns[0])\n",
    "        word2.append(\" \"+ columns[1])\n",
    "        h_score.append(float(columns[3]))  # Assuming the score is a floating-point number\n"
   ]
  },
  {
   "cell_type": "code",
   "execution_count": 8,
   "metadata": {},
   "outputs": [],
   "source": [
    "for i in range(len(word1)):\n",
    "    m_score.append(simm(word1[i],word2[i]))"
   ]
  },
  {
   "cell_type": "code",
   "execution_count": 9,
   "metadata": {},
   "outputs": [
    {
     "data": {
      "text/plain": [
       "0.05818864807522393"
      ]
     },
     "execution_count": 9,
     "metadata": {},
     "output_type": "execute_result"
    }
   ],
   "source": [
    "spearman_corr, _ = spearmanr(h_score, m_score)\n",
    "spearman_corr"
   ]
  },
  {
   "cell_type": "markdown",
   "metadata": {},
   "source": [
    "## SIMMLEX"
   ]
  },
  {
   "cell_type": "code",
   "execution_count": 10,
   "metadata": {},
   "outputs": [],
   "source": [
    "word1 = []\n",
    "word2 = []  # add space\n",
    "h_score = []\n",
    "m_score =[]"
   ]
  },
  {
   "cell_type": "code",
   "execution_count": 11,
   "metadata": {},
   "outputs": [],
   "source": [
    "with open('/home/hamvir/NLP/Project/dataset/Hamvir/gpt_2_trained/SimLex-999.txt', 'r') as file:\n",
    "    # Iterate through each line\n",
    "    header = next(file)\n",
    "    for line in file:\n",
    "        # Split the line into columns\n",
    "        columns = line.strip().split('\\t')\n",
    "\n",
    "        # Extract word1, word2, and the score\n",
    "        word1.append(\" \"+ columns[0])\n",
    "        word2.append(\" \"+ columns[1])\n",
    "        h_score.append(float(columns[3]))  # Assuming the score is a floating-point number\n"
   ]
  },
  {
   "cell_type": "code",
   "execution_count": 12,
   "metadata": {},
   "outputs": [],
   "source": [
    "for i in range(len(word1)):\n",
    "    m_score.append(simm(word1[i],word2[i]))"
   ]
  },
  {
   "cell_type": "code",
   "execution_count": 13,
   "metadata": {},
   "outputs": [
    {
     "data": {
      "text/plain": [
       "0.10843808534891415"
      ]
     },
     "execution_count": 13,
     "metadata": {},
     "output_type": "execute_result"
    }
   ],
   "source": [
    "spearman_corr, _ = spearmanr(h_score, m_score)\n",
    "spearman_corr"
   ]
  }
 ],
 "metadata": {
  "kernelspec": {
   "display_name": "venv",
   "language": "python",
   "name": "python3"
  },
  "language_info": {
   "codemirror_mode": {
    "name": "ipython",
    "version": 3
   },
   "file_extension": ".py",
   "mimetype": "text/x-python",
   "name": "python",
   "nbconvert_exporter": "python",
   "pygments_lexer": "ipython3",
   "version": "3.8.18"
  }
 },
 "nbformat": 4,
 "nbformat_minor": 2
}
