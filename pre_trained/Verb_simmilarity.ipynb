{
 "cells": [
  {
   "cell_type": "markdown",
   "metadata": {},
   "source": [
    "# Backpack"
   ]
  },
  {
   "cell_type": "code",
   "execution_count": null,
   "metadata": {},
   "outputs": [],
   "source": [
    "import torch\n",
    "from transformers import AutoConfig, AutoModelForCausalLM\n",
    "\n",
    "model_id = \"stanfordnlp/backpack-gpt2\"\n",
    "config = AutoConfig.from_pretrained(model_id, trust_remote_code=True)\n",
    "model = AutoModelForCausalLM.from_pretrained(model_id, config=config, trust_remote_code=True)\n",
    "model.eval()"
   ]
  },
  {
   "cell_type": "code",
   "execution_count": 17,
   "metadata": {},
   "outputs": [],
   "source": [
    "from transformers import AutoTokenizer\n",
    "from transformers import GPT2Tokenizer\n",
    "import torch\n",
    "import os\n",
    "import numpy as np\n",
    "import torch.nn.functional as F\n",
    "from scipy.stats import spearmanr"
   ]
  },
  {
   "cell_type": "code",
   "execution_count": 12,
   "metadata": {},
   "outputs": [],
   "source": [
    "tokenizer = GPT2Tokenizer.from_pretrained(\"openai-community/gpt2\",pad_token = '<pad>')"
   ]
  },
  {
   "cell_type": "code",
   "execution_count": 13,
   "metadata": {},
   "outputs": [],
   "source": [
    "def simm(w1,w2):\n",
    "    x1 = tokenizer(w1,return_tensors='pt')['input_ids']\n",
    "    x1 = model.backpack.word_embeddings(x1)\n",
    "    x1 = model.backpack.sense_network(x1).detach()\n",
    "    x1 = x1[:,:,0,:]\n",
    "    x1 = x1.squeeze()\n",
    "    x1 = F.normalize(x1,p=2,dim=1)\n",
    "    x2 = tokenizer(w2,return_tensors='pt')['input_ids']\n",
    "    x2 = model.backpack.word_embeddings(x2)\n",
    "    x2 = model.backpack.sense_network(x2).detach()\n",
    "    x2 = x2[:,:,0,:]\n",
    "    x2 = x2.squeeze()\n",
    "    x2 = F.normalize(x2,p=2,dim=1)\n",
    "    sim_list = torch.sum(torch.multiply(x1,x2),dim=1)\n",
    "    #print(sim_list)\n",
    "    return(sim_list.min())"
   ]
  },
  {
   "cell_type": "markdown",
   "metadata": {},
   "source": [
    "## SIMVERB"
   ]
  },
  {
   "cell_type": "code",
   "execution_count": 14,
   "metadata": {},
   "outputs": [],
   "source": [
    "word1 = []\n",
    "word2 = []  # add space\n",
    "h_score = []\n",
    "m_score =[]"
   ]
  },
  {
   "cell_type": "code",
   "execution_count": 15,
   "metadata": {},
   "outputs": [],
   "source": [
    "with open('/home/piyush/srinath/NLP/Project/NLP/Hamvir/SimVerb-3500.txt', 'r') as file:\n",
    "    # Iterate through each line\n",
    "    for line in file:\n",
    "        # Split the line into columns\n",
    "        columns = line.strip().split('\\t')\n",
    "\n",
    "        # Extract word1, word2, and the score\n",
    "        word1.append(\" \"+ columns[0])\n",
    "        word2.append(\" \"+ columns[1])\n",
    "        h_score.append(float(columns[3]))  # Assuming the score is a floating-point number\n"
   ]
  },
  {
   "cell_type": "code",
   "execution_count": 16,
   "metadata": {},
   "outputs": [],
   "source": [
    "for i in range(len(word1)):\n",
    "    m_score.append(simm(word1[i],word2[i]))"
   ]
  },
  {
   "cell_type": "code",
   "execution_count": 18,
   "metadata": {},
   "outputs": [
    {
     "data": {
      "text/plain": [
       "0.4468468531403537"
      ]
     },
     "execution_count": 18,
     "metadata": {},
     "output_type": "execute_result"
    }
   ],
   "source": [
    "spearman_corr, _ = spearmanr(h_score, m_score)\n",
    "spearman_corr"
   ]
  },
  {
   "cell_type": "markdown",
   "metadata": {},
   "source": [
    "## SIMMLEX"
   ]
  },
  {
   "cell_type": "code",
   "execution_count": 19,
   "metadata": {},
   "outputs": [],
   "source": [
    "word1 = []\n",
    "word2 = []  # add space\n",
    "h_score = []\n",
    "m_score =[]"
   ]
  },
  {
   "cell_type": "code",
   "execution_count": 20,
   "metadata": {},
   "outputs": [],
   "source": [
    "with open('/home/piyush/srinath/NLP/Project/NLP/Hamvir/SimLex-999.txt', 'r') as file:\n",
    "    # Iterate through each line\n",
    "    header = next(file)\n",
    "    for line in file:\n",
    "        # Split the line into columns\n",
    "        columns = line.strip().split('\\t')\n",
    "\n",
    "        # Extract word1, word2, and the score\n",
    "        word1.append(\" \"+ columns[0])\n",
    "        word2.append(\" \"+ columns[1])\n",
    "        h_score.append(float(columns[3]))  # Assuming the score is a floating-point number\n"
   ]
  },
  {
   "cell_type": "code",
   "execution_count": 21,
   "metadata": {},
   "outputs": [],
   "source": [
    "for i in range(len(word1)):\n",
    "    m_score.append(simm(word1[i],word2[i]))"
   ]
  },
  {
   "cell_type": "code",
   "execution_count": 22,
   "metadata": {},
   "outputs": [
    {
     "data": {
      "text/plain": [
       "0.5396491328014148"
      ]
     },
     "execution_count": 22,
     "metadata": {},
     "output_type": "execute_result"
    }
   ],
   "source": [
    "spearman_corr, _ = spearmanr(h_score, m_score)\n",
    "spearman_corr"
   ]
  },
  {
   "cell_type": "markdown",
   "metadata": {},
   "source": [
    "# GPT"
   ]
  },
  {
   "cell_type": "code",
   "execution_count": 34,
   "metadata": {},
   "outputs": [],
   "source": [
    "from transformers import GPT2LMHeadModel\n",
    "model = GPT2LMHeadModel.from_pretrained(\"openai-community/gpt2\")"
   ]
  },
  {
   "cell_type": "code",
   "execution_count": 35,
   "metadata": {},
   "outputs": [],
   "source": [
    "from transformers import AutoTokenizer\n",
    "from transformers import GPT2Tokenizer\n",
    "import torch\n",
    "import os\n",
    "import numpy as np\n",
    "import torch.nn.functional as F\n",
    "from scipy.stats import spearmanr"
   ]
  },
  {
   "cell_type": "code",
   "execution_count": 36,
   "metadata": {},
   "outputs": [],
   "source": [
    "tokenizer = GPT2Tokenizer.from_pretrained(\"openai-community/gpt2\",pad_token = '<pad>')"
   ]
  },
  {
   "cell_type": "code",
   "execution_count": 37,
   "metadata": {},
   "outputs": [],
   "source": [
    "def simm(w1,w2):\n",
    "    x1 = tokenizer(w1,return_tensors='pt')['input_ids']\n",
    "    x1 = model.transformer.wte(x1).detach() # (1, 1, 768)\n",
    "    x1 = x1[:,-1,:]  # (1,768)\n",
    "    x1 = F.normalize(x1,p=2,dim=1)\n",
    "    x2 = tokenizer(w2,return_tensors='pt')['input_ids']\n",
    "    x2 = model.transformer.wte(x2).detach() # (1, 1, 768)\n",
    "    x2 = x2[:,-1,:] # (1,768)\n",
    "    x2 = F.normalize(x2,p=2,dim=1)\n",
    "    sim_list = torch.sum(torch.multiply(x1,x2))\n",
    "    #print(sim_list)\n",
    "    return(sim_list.item())"
   ]
  },
  {
   "cell_type": "markdown",
   "metadata": {},
   "source": [
    "## SIMMLEX"
   ]
  },
  {
   "cell_type": "code",
   "execution_count": 38,
   "metadata": {},
   "outputs": [],
   "source": [
    "word1 = []\n",
    "word2 = []  # add space\n",
    "h_score = []\n",
    "m_score =[]"
   ]
  },
  {
   "cell_type": "code",
   "execution_count": 39,
   "metadata": {},
   "outputs": [],
   "source": [
    "with open('/home/piyush/srinath/NLP/Project/NLP/Hamvir/SimLex-999.txt', 'r') as file:\n",
    "    # Iterate through each line\n",
    "    header = next(file)\n",
    "    for line in file:\n",
    "        # Split the line into columns\n",
    "        columns = line.strip().split('\\t')\n",
    "\n",
    "        # Extract word1, word2, and the score\n",
    "        word1.append(\" \"+ columns[0])\n",
    "        word2.append(\" \"+ columns[1])\n",
    "        h_score.append(float(columns[3]))  # Assuming the score is a floating-point number\n"
   ]
  },
  {
   "cell_type": "code",
   "execution_count": 40,
   "metadata": {},
   "outputs": [],
   "source": [
    "for i in range(len(word1)):\n",
    "    m_score.append(simm(word1[i],word2[i]))"
   ]
  },
  {
   "cell_type": "code",
   "execution_count": 41,
   "metadata": {},
   "outputs": [
    {
     "data": {
      "text/plain": [
       "0.46565706841842996"
      ]
     },
     "execution_count": 41,
     "metadata": {},
     "output_type": "execute_result"
    }
   ],
   "source": [
    "spearman_corr, _ = spearmanr(h_score, m_score)\n",
    "spearman_corr"
   ]
  },
  {
   "cell_type": "markdown",
   "metadata": {},
   "source": [
    "## SIMMVERB"
   ]
  },
  {
   "cell_type": "code",
   "execution_count": 42,
   "metadata": {},
   "outputs": [],
   "source": [
    "word1 = []\n",
    "word2 = []  # add space\n",
    "h_score = []\n",
    "m_score =[]"
   ]
  },
  {
   "cell_type": "code",
   "execution_count": 43,
   "metadata": {},
   "outputs": [],
   "source": [
    "with open('/home/piyush/srinath/NLP/Project/NLP/Hamvir/SimVerb-3500.txt', 'r') as file:\n",
    "    # Iterate through each line\n",
    "    for line in file:\n",
    "        # Split the line into columns\n",
    "        columns = line.strip().split('\\t')\n",
    "\n",
    "        # Extract word1, word2, and the score\n",
    "        word1.append(\" \"+ columns[0])\n",
    "        word2.append(\" \"+ columns[1])\n",
    "        h_score.append(float(columns[3]))  # Assuming the score is a floating-point number\n"
   ]
  },
  {
   "cell_type": "code",
   "execution_count": 44,
   "metadata": {},
   "outputs": [],
   "source": [
    "for i in range(len(word1)):\n",
    "    m_score.append(simm(word1[i],word2[i]))"
   ]
  },
  {
   "cell_type": "code",
   "execution_count": 45,
   "metadata": {},
   "outputs": [
    {
     "data": {
      "text/plain": [
       "0.2911671264006562"
      ]
     },
     "execution_count": 45,
     "metadata": {},
     "output_type": "execute_result"
    }
   ],
   "source": [
    "spearman_corr, _ = spearmanr(h_score, m_score)\n",
    "spearman_corr"
   ]
  }
 ],
 "metadata": {
  "kernelspec": {
   "display_name": "venv",
   "language": "python",
   "name": "python3"
  },
  "language_info": {
   "codemirror_mode": {
    "name": "ipython",
    "version": 3
   },
   "file_extension": ".py",
   "mimetype": "text/x-python",
   "name": "python",
   "nbconvert_exporter": "python",
   "pygments_lexer": "ipython3",
   "version": "3.11.5"
  }
 },
 "nbformat": 4,
 "nbformat_minor": 2
}
